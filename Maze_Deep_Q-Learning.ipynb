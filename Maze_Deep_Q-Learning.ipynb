{
 "cells": [
  {
   "cell_type": "code",
   "execution_count": 1,
   "id": "73820476-0ea0-4995-9250-296e47753061",
   "metadata": {},
   "outputs": [
    {
     "name": "stderr",
     "output_type": "stream",
     "text": [
      "2023-12-08 14:29:21.903886: I tensorflow/core/util/port.cc:110] oneDNN custom operations are on. You may see slightly different numerical results due to floating-point round-off errors from different computation orders. To turn them off, set the environment variable `TF_ENABLE_ONEDNN_OPTS=0`.\n",
      "2023-12-08 14:29:21.905435: I tensorflow/tsl/cuda/cudart_stub.cc:28] Could not find cuda drivers on your machine, GPU will not be used.\n",
      "2023-12-08 14:29:21.939357: I tensorflow/tsl/cuda/cudart_stub.cc:28] Could not find cuda drivers on your machine, GPU will not be used.\n",
      "2023-12-08 14:29:21.940088: I tensorflow/core/platform/cpu_feature_guard.cc:182] This TensorFlow binary is optimized to use available CPU instructions in performance-critical operations.\n",
      "To enable the following instructions: AVX2 AVX512F AVX512_VNNI FMA, in other operations, rebuild TensorFlow with the appropriate compiler flags.\n",
      "2023-12-08 14:29:22.489744: W tensorflow/compiler/tf2tensorrt/utils/py_utils.cc:38] TF-TRT Warning: Could not find TensorRT\n"
     ]
    }
   ],
   "source": [
    "import datetime, random \n",
    "import numpy as np \n",
    "import tensorflow as tf \n",
    "from tensorflow.keras.layers import Dense \n",
    "from tensorflow.keras.layers import PReLU\n",
    "import matplotlib.pyplot as plt "
   ]
  },
  {
   "cell_type": "markdown",
   "id": "d277869d-a655-4b51-92ee-fb6db31708fc",
   "metadata": {},
   "source": [
    "### Setting Var"
   ]
  },
  {
   "cell_type": "code",
   "execution_count": 2,
   "id": "b42639b8-af27-4461-b27a-a44ee98db1a9",
   "metadata": {},
   "outputs": [],
   "source": [
    "visited_color = 0.8 \n",
    "agent_color = 0.5\n",
    "\n",
    "# action possible in maze\n",
    "LEFT = 0\n",
    "UP = 1\n",
    "RIGHT = 2\n",
    "DOWN = 3\n",
    "\n",
    "actions_dict = {\n",
    "    LEFT : 'left',\n",
    "    UP : 'up',\n",
    "    RIGHT : 'right',\n",
    "    DOWN : 'down'\n",
    "}\n",
    "\n",
    "num_actions = len(actions_dict)\n",
    "\n",
    "# Esploration\n",
    "epsilon = 0.1 "
   ]
  },
  {
   "cell_type": "markdown",
   "id": "39f4c23e-fe99-4c36-8721-eaee5d0b0c69",
   "metadata": {},
   "source": [
    "### Class Qmaze Implementation for a Maze"
   ]
  },
  {
   "cell_type": "code",
   "execution_count": 3,
   "id": "143fc2ec-c457-4673-87ce-d022681c4b36",
   "metadata": {},
   "outputs": [],
   "source": [
    "import numpy as np\n",
    "\n",
    "LEFT = 0\n",
    "UP = 1\n",
    "RIGHT = 2\n",
    "DOWN = 3\n",
    "\n",
    "agent_color = 0.5\n",
    "\n",
    "class Qmaze(object):\n",
    "    def __init__(self, maze, agent=(0, 0)):\n",
    "        self._maze = np.array(maze)\n",
    "        nrows, ncols = self._maze.shape\n",
    "        self.target = (nrows - 1, ncols - 1)\n",
    "        self.free_cells = [(r, c) for r in range(nrows) for c in range(ncols) if self._maze[r, c] == 1.0]\n",
    "        self.free_cells.remove(self.target)\n",
    "        if self._maze[self.target] == 0.0:\n",
    "            raise Exception('Labirinto non valido: la destinazione non può essere un muro!')\n",
    "        if not agent in self.free_cells:\n",
    "            raise Exception(\"Posizione agente non valida: l'agente deve essere posizionato su una cella libera\")\n",
    "        self.reset(agent)\n",
    "\n",
    "    def reset(self, agent):\n",
    "        self.agent = agent\n",
    "        self.maze = np.copy(self._maze)\n",
    "        row, col = agent\n",
    "        self.maze[row, col] = agent_color\n",
    "        self.state = (row, col, 'start')\n",
    "        self.min_reward = -0.5 * self.maze.size\n",
    "        self.total_reward = 0\n",
    "        self.visited = set()\n",
    "\n",
    "    def update_state(self, action):\n",
    "        nrows, ncols = self.maze.shape\n",
    "        agent_row, agent_col, mode = self.state\n",
    "\n",
    "        if self.maze[agent_row, agent_col] > 0.0:\n",
    "            self.visited.add((agent_row, agent_col))\n",
    "\n",
    "        valid_actions = self.valid_actions()\n",
    "\n",
    "        if not valid_actions:\n",
    "            mode = 'blocked'\n",
    "        elif action in valid_actions:\n",
    "            mode = 'valid'\n",
    "            if action == LEFT:\n",
    "                agent_col -= 1\n",
    "            elif action == UP:\n",
    "                agent_row -= 1\n",
    "            elif action == RIGHT:\n",
    "                agent_col += 1\n",
    "            elif action == DOWN:\n",
    "                agent_row += 1\n",
    "        else:\n",
    "            mode = 'invalid'\n",
    "\n",
    "        self.state = (agent_row, agent_col, mode)\n",
    "\n",
    "    def get_reward(self):\n",
    "        agent_row, agent_col, mode = self.state\n",
    "        nrows, ncols = self.maze.shape\n",
    "        if agent_row == nrows - 1 and agent_col == ncols - 1:\n",
    "            return 1.0\n",
    "        if mode == 'blocked':\n",
    "            return self.min_reward - 1\n",
    "        if (agent_row, agent_col) in self.visited:\n",
    "            return -0.25\n",
    "        if mode == 'invalid':\n",
    "            return -0.75\n",
    "        if mode == 'valid':\n",
    "            return -0.04\n",
    "\n",
    "    def act(self, action):\n",
    "        self.update_state(action)\n",
    "        reward = self.get_reward()\n",
    "        self.total_reward += reward\n",
    "        return self.observe(), reward, self.game_status()\n",
    "\n",
    "    def observe(self):\n",
    "        canvas = np.copy(self.maze)\n",
    "        row, col, _ = self.state\n",
    "        canvas[row, col] = 0.5 \n",
    "        return canvas.flatten()\n",
    "\n",
    "    def draw_env(self):\n",
    "        canvas = np.copy(self.maze)\n",
    "        nrows, ncols = self.maze.shape\n",
    "        for r in range(nrows):\n",
    "            for c in range(ncols):\n",
    "                if canvas[r, c] > 0.0:\n",
    "                    canvas[r, c] = 1.0\n",
    "\n",
    "        agent_row, agent_col, _ = self.state\n",
    "        canvas[agent_row, agent_col] = agent_color\n",
    "        return canvas\n",
    "\n",
    "    def game_status(self):\n",
    "        if self.total_reward < self.min_reward:\n",
    "            return 'lose'\n",
    "        agent_row, agent_col, _ = self.state\n",
    "        nrows, ncols = self.maze.shape\n",
    "        if agent_row == nrows - 1 and agent_col == ncols - 1:\n",
    "            return 'win'\n",
    "        return 'not_over'\n",
    "\n",
    "    def valid_actions(self, cell=None):\n",
    "        if cell is None:\n",
    "            agent_row, agent_col, _ = self.state\n",
    "        else:\n",
    "            agent_row, agent_col = cell\n",
    "        actions = [0, 1, 2, 3]\n",
    "        nrows, ncols = self.maze.shape\n",
    "        if agent_row == 0:\n",
    "            actions.remove(1)\n",
    "        elif agent_row == nrows - 1:\n",
    "            actions.remove(3)\n",
    "\n",
    "        if agent_col == 0:\n",
    "            actions.remove(0)\n",
    "        elif agent_col == ncols - 1:\n",
    "            actions.remove(2)\n",
    "\n",
    "        if agent_row > 0 and self.maze[agent_row - 1, agent_col] == 0.0:\n",
    "            actions.remove(1)\n",
    "        if agent_row < nrows - 1 and self.maze[agent_row + 1, agent_col] == 0.0:\n",
    "            actions.remove(3)\n",
    "\n",
    "        if agent_col > 0 and self.maze[agent_row, agent_col - 1] == 0.0:\n",
    "            actions.remove(0)\n",
    "\n",
    "        if agent_col < ncols - 1 and self.maze[agent_row, agent_col + 1] == 0.0:\n",
    "            actions.remove(2)\n",
    "\n",
    "        return actions\n"
   ]
  },
  {
   "cell_type": "markdown",
   "id": "1dd636da-30e4-46e0-b6b5-ea475ada1018",
   "metadata": {},
   "source": [
    "### Illustratio ma"
   ]
  },
  {
   "cell_type": "code",
   "execution_count": 4,
   "id": "8819e8e7-9046-42d2-9a91-1996b8fe4349",
   "metadata": {},
   "outputs": [],
   "source": [
    "def show(qmaze):\n",
    "    plt.grid(True)\n",
    "    nrows, ncols = qmaze.maze.shape\n",
    "    ax = plt.gca()\n",
    "    ax.set_xticks(np.arange(0.5, nrows, 1))\n",
    "    ax.set_yticks(np.arange(0.5, ncols, 1))\n",
    "    ax.set_xticks([])\n",
    "    ax.set_yticks([])\n",
    "    canvas = np.copy(qmaze.maze)\n",
    "    for row, col in qmaze.visited:\n",
    "        canvas[row, col] = visited_color\n",
    "    agent_row, agent_col, _ = qmaze.state\n",
    "    canvas[agent_row, agent_col] = agent_color\n",
    "    canvas[nrows -1, ncols -1] = 0.9\n",
    "    img = plt.imshow(canvas, interpolation='none', cmap='gray')\n",
    "    plt.show()\n",
    "    return img"
   ]
  },
  {
   "cell_type": "markdown",
   "id": "d2c6f567-d039-4067-9ccd-0b7b3f239fbe",
   "metadata": {},
   "source": [
    "### maze creation and illustration"
   ]
  },
  {
   "cell_type": "code",
   "execution_count": 5,
   "id": "b9a7be58-d9fc-48ba-bde0-6ff5b91adca4",
   "metadata": {},
   "outputs": [
    {
     "name": "stdout",
     "output_type": "stream",
     "text": [
      "reward =  -0.04\n"
     ]
    },
    {
     "data": {
      "image/png": "[encoded data removed]",
      "text/plain": [
       "<Figure size 640x480 with 1 Axes>"
      ]
     },
     "metadata": {},
     "output_type": "display_data"
    },
    {
     "data": {
      "text/plain": [
       "<matplotlib.image.AxesImage at 0x7fe531bf3430>"
      ]
     },
     "execution_count": 5,
     "metadata": {},
     "output_type": "execute_result"
    }
   ],
   "source": [
    "maze = np.array([\n",
    "    [1.,0.,1.,1.,1.,1.,1.,1.],\n",
    "    [1.,1.,1.,0.,0.,1.,0.,1.],\n",
    "    [0.,0.,0.,1.,1.,1.,1.,1.],\n",
    "    [1.,1.,1.,1.,0.,1.,0.,1.],\n",
    "    [1.,0.,0.,0.,1.,1.,0.,1.],\n",
    "    [1.,0.,1.,1.,1.,1.,0.,1.],\n",
    "    [1.,0.,1.,0.,0.,0.,0.,0.],\n",
    "    [0.,1.,1.,1.,1.,1.,1.,1.]])\n",
    "\n",
    "qmaze = Qmaze(maze)\n",
    "canvas, reward, game_over = qmaze.act(DOWN)\n",
    "print(\"reward = \", reward)\n",
    "show(qmaze)"
   ]
  },
  {
   "cell_type": "markdown",
   "id": "606d2777-5cc6-4563-af26-eb03590984a9",
   "metadata": {},
   "source": [
    "### move in the maze"
   ]
  },
  {
   "cell_type": "code",
   "execution_count": 6,
   "id": "b942c83e-052e-406e-b339-96928ff01aa4",
   "metadata": {},
   "outputs": [
    {
     "data": {
      "image/png": "[encoded data removed]",
      "text/plain": [
       "<Figure size 640x480 with 1 Axes>"
      ]
     },
     "metadata": {},
     "output_type": "display_data"
    },
    {
     "data": {
      "text/plain": [
       "<matplotlib.image.AxesImage at 0x7fe531a630d0>"
      ]
     },
     "execution_count": 6,
     "metadata": {},
     "output_type": "execute_result"
    }
   ],
   "source": [
    "qmaze.act(DOWN)\n",
    "qmaze.act(RIGHT)\n",
    "qmaze.act(RIGHT)\n",
    "qmaze.act(RIGHT)\n",
    "qmaze.act(UP)\n",
    "show(qmaze)"
   ]
  },
  {
   "cell_type": "markdown",
   "id": "a311c417-082c-43b3-a7d5-b7ad2d1e6363",
   "metadata": {},
   "source": [
    "### simulation of a game"
   ]
  },
  {
   "cell_type": "code",
   "execution_count": 7,
   "id": "f23abdf7-5a39-4d3a-87f7-1fce55a40bdf",
   "metadata": {},
   "outputs": [],
   "source": [
    "def play_game(model, qmaze, agent_cell):\n",
    "    qmaze.reset(agent_cell)\n",
    "    envstate = qmaze.observe()\n",
    "    while True:\n",
    "        prev_envstate = envstate\n",
    "        q = model.test_models(prev_envstate)\n",
    "        action = np.argmax(q)\n",
    "\n",
    "        envstate, reward, gamer_status = qmaze.act(action)\n",
    "        if game_status == 'win':\n",
    "            return True\n",
    "\n",
    "        elif game_status == 'lose':\n",
    "            return False"
   ]
  },
  {
   "cell_type": "markdown",
   "id": "10939c3d-6b2c-4b25-85ab-60d2432c0903",
   "metadata": {},
   "source": [
    "### Check if it is possible to simulate inside the maze."
   ]
  },
  {
   "cell_type": "code",
   "execution_count": 8,
   "id": "7f0aa0b9-d4f0-4f0e-9c35-009a338e5d7a",
   "metadata": {},
   "outputs": [],
   "source": [
    "def completion_check(model, qmaze):\n",
    "    for cell in qmaze.free_cells:\n",
    "        if not qmaze.valid_actions(cell):\n",
    "            return False\n",
    "        if not play_game(model, qmaze, cell):\n",
    "            return False\n",
    "    return True\n",
    "    "
   ]
  },
  {
   "cell_type": "markdown",
   "id": "cef2b1eb-99f9-48cd-8647-57ffa8a75f15",
   "metadata": {},
   "source": [
    "### Implement sequential memory where it collects the agent's experience to train the model itself"
   ]
  },
  {
   "cell_type": "code",
   "execution_count": 9,
   "id": "8d7dec4e-9d19-4fcd-be5d-c9e962974bbf",
   "metadata": {},
   "outputs": [],
   "source": [
    "class Experience(object):\n",
    "    def __init__(self, input_shape, output_shape, batch_size=32, memory_limit=1000):\n",
    "        self.batch_size = batch_size\n",
    "        self.memory_limit = memory_limit\n",
    "\n",
    "        self.states_memory = np.zeros((self.memory_limit, input_shape), dtype=np.float16)\n",
    "        self.outputs_memory = np.zeros((self.memory_limit, output_shape), dtype=np.float16)\n",
    "\n",
    "        self.inputs = np.zeros((self.batch_size, input_shape))\n",
    "        self.targets = np.zeros((self.batch_size, output_shape))\n",
    "        self.memory_index = 0\n",
    "        self.memory_ready = False\n",
    "        self.batches_number = int((self.memory_limit / self.batch_size) / 4)\n",
    "\n",
    "    def add_to_memory(self, state, output):\n",
    "        self.states_memory[self.memory_index] = state\n",
    "        self.outputs_memory[self.memory_index] = output\n",
    "        self.memory_index += 1\n",
    "        if self.memory_index  >= self.memory_limit:\n",
    "            self.memory_index = 0\n",
    "            self.memory_ready = True\n",
    "\n",
    "    def get_random_batches(self, ):\n",
    "        for i, j in enumerate(np.random.choice(range(self.memory_limit), self.batch_size, replace=False)):\n",
    "            self.inputs[i] = self.states_memory[j]\n",
    "            self.targets[i] = self.outputs_memory[j]\n",
    "        return self.inputs, self.targets"
   ]
  },
  {
   "cell_type": "markdown",
   "id": "7bfaa660-bd16-46cb-8608-7f8298b46836",
   "metadata": {},
   "source": [
    "### Model definition"
   ]
  },
  {
   "cell_type": "code",
   "execution_count": 10,
   "id": "413e1dde-2f0d-4387-b1e7-38406342558c",
   "metadata": {},
   "outputs": [],
   "source": [
    "import tensorflow as tf\n",
    "from tensorflow.keras.layers import Dense, PReLU\n",
    "\n",
    "class Model():\n",
    "    def __init__(\n",
    "        self,\n",
    "        batch_size,\n",
    "        input_shape,\n",
    "        output_shape,\n",
    "        cells=64,\n",
    "    ):\n",
    "        self.loss_fn = tf.keras.losses.MeanSquaredError()\n",
    "        self.optimizer = tf.keras.optimizers.Adam(learning_rate=0.001)\n",
    "        self.input_shape = input_shape\n",
    "        self.output_shape = output_shape\n",
    "\n",
    "        self.model_play = self.get_model(\n",
    "            batch_size=1,\n",
    "            state_number=self.input_shape,\n",
    "            cells=cells,\n",
    "            optimizer=self.optimizer,\n",
    "            loss_fn=self.loss_fn,\n",
    "            n_output=self.output_shape)\n",
    "        self.model_play.summary() \n",
    "\n",
    "        self.model_train = self.get_model(\n",
    "            batch_size=batch_size,\n",
    "            state_number=self.input_shape,\n",
    "            cells=cells,\n",
    "            optimizer=self.optimizer,\n",
    "            loss_fn=self.loss_fn,\n",
    "            n_output=self.output_shape)\n",
    "\n",
    "    def get_model(self, batch_size=32, state_number=1, cells=32, optimizer=None, loss_fn=None, n_output=4):\n",
    "        input_state = tf.keras.layers.Input(batch_size=batch_size, shape=state_number, name=\"InputState\")\n",
    "\n",
    "        dense = Dense(cells)(input_state)\n",
    "        dense = PReLU()(dense)\n",
    "        dense = Dense(cells * 2)(dense)\n",
    "        dense = PReLU()(dense)\n",
    "        out = Dense(n_output)(dense)  \n",
    "\n",
    "        model = tf.keras.Model(\n",
    "            inputs=[input_state],\n",
    "            outputs=[out])\n",
    "\n",
    "        model.compile(\n",
    "            optimizer=optimizer,\n",
    "            loss=loss_fn)\n",
    "        \n",
    "        return model\n",
    "        \n",
    "    @tf.function(jit_compile=True)\n",
    "    def train_step(self, state, y):\n",
    "        with tf.GradientTape() as tape:\n",
    "            results = self.model_train(state, training=True)\n",
    "            loss_value = self.loss_fn(y, results)\n",
    "        grads = tape.gradient(loss_value, self.model_train.trainable_weights)\n",
    "        self.optimizer.apply_gradients(zip(grads, self.model_train.trainable_weights))\n",
    "        return loss_value\n",
    "\n",
    "    @tf.function(jit_compile=True)\n",
    "    def test_models(self, nets_inputs):\n",
    "        action_1 = self.model_play(nets_inputs, training=False)[0]\n",
    "        return action_1\n",
    "\n",
    "    def swap_nets(self):\n",
    "        self.model_play.set_weights(self.model_train.get_weights())\n",
    "\n",
    "    def load_weights(self, path):\n",
    "        self.model_play.load_weights(path)\n",
    "        self.model_train.load_weights(path)\n",
    "\n",
    "            "
   ]
  },
  {
   "cell_type": "markdown",
   "id": "15c6723c-861a-49af-9b3a-32b3830999f6",
   "metadata": {},
   "source": [
    "### qtrain allows performing a training loop"
   ]
  },
  {
   "cell_type": "code",
   "execution_count": 11,
   "id": "44d8c4e7-e211-4920-b671-aea9b33c5834",
   "metadata": {},
   "outputs": [],
   "source": [
    "def qtrain(model, maze, epochs=1000, max_memory=1000, batch=32, gamma=0.95, exploration=0.1, name='model'):\n",
    "    start_time = datetime.datetime.now()\n",
    "    qmaze = Qmaze(maze)\n",
    "    experience = Experience(input_shape=model.input_shape, output_shape=model.output_shape, batch_size=batch, memory_limit=1000)\n",
    "\n",
    "    win_history = []\n",
    "    hsize = qmaze.maze.size // 2\n",
    "    win_rate = 0.0\n",
    "    losses = []\n",
    "\n",
    "    batches = int(experience.memory_limit / experience.batch_size)\n",
    "\n",
    "    for epoch in range(epochs):\n",
    "        loss = 0.0\n",
    "        rat_cell = random.choice(qmaze.free_cells)\n",
    "        qmaze.reset(rat_cell)\n",
    "        game_over = False\n",
    "        envstate = qmaze.observe()\n",
    "\n",
    "        n_episodes = 0\n",
    "\n",
    "        while not game_over:\n",
    "            valid_actions = qmaze.valid_actions()\n",
    "            if not valid_actions:\n",
    "                break\n",
    "            prev_envstate = envstate\n",
    "            \n",
    "            tensor_actions = model.test_models(tf.convert_to_tensor([prev_envstate]))\n",
    "            actions = tf.keras.backend.get_value(tensor_actions)\n",
    "            if np.random.rand() < exploration:\n",
    "                action = random.choice(valid_actions)\n",
    "            else:\n",
    "                action = np.argmax(tensor_actions)\n",
    "\n",
    "            envstate, reward, game_status = qmaze.act(action)\n",
    "\n",
    "            if game_status == 'win':\n",
    "                win_history.append(1)\n",
    "                game_over = True\n",
    "            elif game_status == 'lose':\n",
    "                win_history.append(0)\n",
    "                game_over = True\n",
    "            else:\n",
    "                game_over = False\n",
    "\n",
    "            tensor_next_actions = model.test_models(tf.convert_to_tensor([envstate]))\n",
    "            if game_over:\n",
    "                actions[action] = reward\n",
    "            else:\n",
    "                Q_sa = np.max(tensor_next_actions)\n",
    "                actions[action] = reward + gamma * Q_sa\n",
    "\n",
    "\n",
    "            experience.add_to_memory(prev_envstate, actions)\n",
    "            n_episodes += 1\n",
    "\n",
    "            if experience.memory_ready:\n",
    "                for _ in range(experience.batches_number):\n",
    "                    state, y = experience.get_random_batches()\n",
    "                    loss = model.train_step(state, y)\n",
    "                    losses.append(loss)\n",
    "                model.swap_nets()\n",
    "\n",
    "        if len(win_history) > hsize:\n",
    "            win_rate = sum(win_history[-hsize:]) / hsize\n",
    "\n",
    "        dt = datetime.datetime.now() - start_time\n",
    "        t = format_time(dt.total_seconds())\n",
    "        template = \"Epoch: {:03d}/{:d} | Loss: {:.4f} | Episodes: {:d} | Win count: {:d} | Win rate: {:.3f} | Time: {}\"\n",
    "        print(template.format(epoch, epochs - 1, loss, n_episodes, sum(win_history), win_rate, t))\n",
    "\n",
    "        if win_rate > 0.9:\n",
    "            exploration = 0.05\n",
    "        if sum(win_history[-hsize:]) == hsize:\n",
    "            print(\"Reached 100%% win rate at epoch: %s\" % (epoch,))\n",
    "            break\n",
    "\n",
    "    end_time = datetime.datetime.now()\n",
    "    dt = end_time - start_time\n",
    "    seconds = dt.total_seconds()\n",
    "    t = format_time(seconds)\n",
    "    print(\"n_epoch: %d, max_mem: %d, batch: %d, time: %s\" % (epoch, max_memory, batch, t))\n",
    "    return seconds\n",
    "\n",
    "def format_time(seconds):\n",
    "    if seconds < 400:\n",
    "        s = float(seconds)\n",
    "        return \"%.1f seconds\" % (s,)\n",
    "    elif seconds < 4000:\n",
    "        m = seconds / 60.0\n",
    "        return \"%2.f minutes\" % (m, )\n",
    "    else:\n",
    "        h = seconds / 3600.0\n",
    "        return \"%2.f hours\" % (h, )"
   ]
  },
  {
   "cell_type": "markdown",
   "id": "01fa2235-da54-4548-bec4-a48d574a56eb",
   "metadata": {},
   "source": [
    "### Train model"
   ]
  },
  {
   "cell_type": "code",
   "execution_count": 12,
   "id": "f2cb807a-c79e-47ee-9a1e-4f27099aa737",
   "metadata": {},
   "outputs": [
    {
     "name": "stdout",
     "output_type": "stream",
     "text": [
      "Model: \"model\"\n",
      "_________________________________________________________________\n",
      " Layer (type)                Output Shape              Param #   \n",
      "=================================================================\n",
      " InputState (InputLayer)     [(1, 64)]                 0         \n",
      "                                                                 \n",
      " dense (Dense)               (1, 64)                   4160      \n",
      "                                                                 \n",
      " p_re_lu (PReLU)             (1, 64)                   64        \n",
      "                                                                 \n",
      " dense_1 (Dense)             (1, 128)                  8320      \n",
      "                                                                 \n",
      " p_re_lu_1 (PReLU)           (1, 128)                  128       \n",
      "                                                                 \n",
      " dense_2 (Dense)             (1, 4)                    516       \n",
      "                                                                 \n",
      "=================================================================\n",
      "Total params: 13188 (51.52 KB)\n",
      "Trainable params: 13188 (51.52 KB)\n",
      "Non-trainable params: 0 (0.00 Byte)\n",
      "_________________________________________________________________\n"
     ]
    }
   ],
   "source": [
    "model = Model(batch_size=32, input_shape=maze.size, output_shape=len(actions_dict), )"
   ]
  },
  {
   "cell_type": "code",
   "execution_count": 13,
   "id": "13e501e5-e600-4e8a-8d7f-3116c6d8374e",
   "metadata": {},
   "outputs": [
    {
     "name": "stderr",
     "output_type": "stream",
     "text": [
      "2023-12-08 14:29:23.976143: I tensorflow/compiler/xla/service/service.cc:168] XLA service 0x562ffc93a730 initialized for platform Host (this does not guarantee that XLA will be used). Devices:\n",
      "2023-12-08 14:29:23.976164: I tensorflow/compiler/xla/service/service.cc:176]   StreamExecutor device (0): Host, Default Version\n",
      "2023-12-08 14:29:23.980373: I tensorflow/compiler/mlir/tensorflow/utils/dump_mlir_util.cc:255] disabling MLIR crash reproducer, set env var `MLIR_CRASH_REPRODUCER_DIRECTORY` to enable.\n",
      "2023-12-08 14:29:24.028059: I ./tensorflow/compiler/jit/device_compiler.h:186] Compiled cluster using XLA!  This line is logged at most once for the lifetime of the process.\n"
     ]
    },
    {
     "name": "stdout",
     "output_type": "stream",
     "text": [
      "Epoch: 000/499 | Loss: 0.0000 | Episodes: 133 | Win count: 0 | Win rate: 0.000 | Time: 0.2 seconds\n",
      "Epoch: 001/499 | Loss: 0.0000 | Episodes: 136 | Win count: 0 | Win rate: 0.000 | Time: 0.4 seconds\n",
      "Epoch: 002/499 | Loss: 0.0000 | Episodes: 137 | Win count: 0 | Win rate: 0.000 | Time: 0.5 seconds\n",
      "Epoch: 003/499 | Loss: 0.0000 | Episodes: 139 | Win count: 0 | Win rate: 0.000 | Time: 0.7 seconds\n",
      "Epoch: 004/499 | Loss: 0.0000 | Episodes: 8 | Win count: 1 | Win rate: 0.000 | Time: 0.7 seconds\n",
      "Epoch: 005/499 | Loss: 0.0000 | Episodes: 136 | Win count: 1 | Win rate: 0.000 | Time: 0.8 seconds\n",
      "Epoch: 006/499 | Loss: 0.0000 | Episodes: 133 | Win count: 1 | Win rate: 0.000 | Time: 0.9 seconds\n",
      "Epoch: 007/499 | Loss: 0.0000 | Episodes: 133 | Win count: 1 | Win rate: 0.000 | Time: 1.1 seconds\n",
      "Epoch: 008/499 | Loss: 0.0115 | Episodes: 139 | Win count: 1 | Win rate: 0.000 | Time: 2.5 seconds\n",
      "Epoch: 009/499 | Loss: 0.0102 | Episodes: 131 | Win count: 1 | Win rate: 0.000 | Time: 3.5 seconds\n",
      "Epoch: 010/499 | Loss: 0.0099 | Episodes: 130 | Win count: 1 | Win rate: 0.000 | Time: 4.6 seconds\n",
      "Epoch: 011/499 | Loss: 0.0047 | Episodes: 132 | Win count: 1 | Win rate: 0.000 | Time: 5.7 seconds\n",
      "Epoch: 012/499 | Loss: 0.0068 | Episodes: 140 | Win count: 1 | Win rate: 0.000 | Time: 6.9 seconds\n",
      "Epoch: 013/499 | Loss: 0.0096 | Episodes: 134 | Win count: 1 | Win rate: 0.000 | Time: 8.1 seconds\n",
      "Epoch: 014/499 | Loss: 0.0096 | Episodes: 132 | Win count: 2 | Win rate: 0.000 | Time: 9.2 seconds\n",
      "Epoch: 015/499 | Loss: 0.0115 | Episodes: 131 | Win count: 2 | Win rate: 0.000 | Time: 10.3 seconds\n",
      "Epoch: 016/499 | Loss: 0.0091 | Episodes: 139 | Win count: 2 | Win rate: 0.000 | Time: 11.5 seconds\n",
      "Epoch: 017/499 | Loss: 0.0103 | Episodes: 134 | Win count: 2 | Win rate: 0.000 | Time: 12.7 seconds\n",
      "Epoch: 018/499 | Loss: 0.0106 | Episodes: 72 | Win count: 3 | Win rate: 0.000 | Time: 13.3 seconds\n",
      "Epoch: 019/499 | Loss: 0.0087 | Episodes: 135 | Win count: 3 | Win rate: 0.000 | Time: 14.5 seconds\n",
      "Epoch: 020/499 | Loss: 0.0089 | Episodes: 144 | Win count: 3 | Win rate: 0.000 | Time: 15.7 seconds\n",
      "Epoch: 021/499 | Loss: 0.0101 | Episodes: 6 | Win count: 4 | Win rate: 0.000 | Time: 15.8 seconds\n",
      "Epoch: 022/499 | Loss: 0.0088 | Episodes: 142 | Win count: 4 | Win rate: 0.000 | Time: 17.0 seconds\n",
      "Epoch: 023/499 | Loss: 0.0093 | Episodes: 141 | Win count: 4 | Win rate: 0.000 | Time: 18.2 seconds\n",
      "Epoch: 024/499 | Loss: 0.0157 | Episodes: 4 | Win count: 5 | Win rate: 0.000 | Time: 18.2 seconds\n",
      "Epoch: 025/499 | Loss: 0.0086 | Episodes: 26 | Win count: 6 | Win rate: 0.000 | Time: 18.4 seconds\n",
      "Epoch: 026/499 | Loss: 0.0077 | Episodes: 141 | Win count: 6 | Win rate: 0.000 | Time: 19.6 seconds\n",
      "Epoch: 027/499 | Loss: 0.0089 | Episodes: 146 | Win count: 6 | Win rate: 0.000 | Time: 20.9 seconds\n",
      "Epoch: 028/499 | Loss: 0.0080 | Episodes: 134 | Win count: 6 | Win rate: 0.000 | Time: 22.1 seconds\n",
      "Epoch: 029/499 | Loss: 0.0072 | Episodes: 77 | Win count: 7 | Win rate: 0.000 | Time: 22.7 seconds\n",
      "Epoch: 030/499 | Loss: 0.0091 | Episodes: 129 | Win count: 8 | Win rate: 0.000 | Time: 23.7 seconds\n",
      "Epoch: 031/499 | Loss: 0.0075 | Episodes: 4 | Win count: 9 | Win rate: 0.000 | Time: 23.8 seconds\n",
      "Epoch: 032/499 | Loss: 0.0084 | Episodes: 143 | Win count: 10 | Win rate: 0.312 | Time: 25.0 seconds\n",
      "Epoch: 033/499 | Loss: 0.0100 | Episodes: 143 | Win count: 10 | Win rate: 0.312 | Time: 26.2 seconds\n",
      "Epoch: 034/499 | Loss: 0.0086 | Episodes: 134 | Win count: 10 | Win rate: 0.312 | Time: 27.3 seconds\n",
      "Epoch: 035/499 | Loss: 0.0072 | Episodes: 147 | Win count: 10 | Win rate: 0.312 | Time: 28.6 seconds\n",
      "Epoch: 036/499 | Loss: 0.0070 | Episodes: 133 | Win count: 10 | Win rate: 0.281 | Time: 29.7 seconds\n",
      "Epoch: 037/499 | Loss: 0.0071 | Episodes: 1 | Win count: 11 | Win rate: 0.312 | Time: 29.7 seconds\n",
      "Epoch: 038/499 | Loss: 0.0080 | Episodes: 143 | Win count: 11 | Win rate: 0.312 | Time: 30.9 seconds\n",
      "Epoch: 039/499 | Loss: 0.0094 | Episodes: 143 | Win count: 11 | Win rate: 0.312 | Time: 32.2 seconds\n",
      "Epoch: 040/499 | Loss: 0.0090 | Episodes: 141 | Win count: 11 | Win rate: 0.312 | Time: 33.4 seconds\n",
      "Epoch: 041/499 | Loss: 0.0074 | Episodes: 139 | Win count: 11 | Win rate: 0.312 | Time: 34.7 seconds\n",
      "Epoch: 042/499 | Loss: 0.0091 | Episodes: 141 | Win count: 11 | Win rate: 0.312 | Time: 35.9 seconds\n",
      "Epoch: 043/499 | Loss: 0.0083 | Episodes: 140 | Win count: 11 | Win rate: 0.312 | Time: 37.1 seconds\n",
      "Epoch: 044/499 | Loss: 0.0076 | Episodes: 135 | Win count: 11 | Win rate: 0.312 | Time: 38.5 seconds\n",
      "Epoch: 045/499 | Loss: 0.0084 | Episodes: 142 | Win count: 11 | Win rate: 0.312 | Time: 39.9 seconds\n",
      "Epoch: 046/499 | Loss: 0.0075 | Episodes: 55 | Win count: 12 | Win rate: 0.312 | Time: 40.4 seconds\n",
      "Epoch: 047/499 | Loss: 0.0075 | Episodes: 16 | Win count: 13 | Win rate: 0.344 | Time: 40.6 seconds\n",
      "Epoch: 048/499 | Loss: 0.0086 | Episodes: 6 | Win count: 14 | Win rate: 0.375 | Time: 40.7 seconds\n",
      "Epoch: 049/499 | Loss: 0.0118 | Episodes: 2 | Win count: 15 | Win rate: 0.406 | Time: 40.7 seconds\n",
      "Epoch: 050/499 | Loss: 0.0092 | Episodes: 147 | Win count: 15 | Win rate: 0.375 | Time: 42.1 seconds\n",
      "Epoch: 051/499 | Loss: 0.0092 | Episodes: 147 | Win count: 15 | Win rate: 0.375 | Time: 43.6 seconds\n",
      "Epoch: 052/499 | Loss: 0.0077 | Episodes: 141 | Win count: 15 | Win rate: 0.375 | Time: 45.0 seconds\n",
      "Epoch: 053/499 | Loss: 0.0083 | Episodes: 4 | Win count: 16 | Win rate: 0.375 | Time: 45.0 seconds\n",
      "Epoch: 054/499 | Loss: 0.0073 | Episodes: 133 | Win count: 16 | Win rate: 0.375 | Time: 46.5 seconds\n",
      "Epoch: 055/499 | Loss: 0.0085 | Episodes: 2 | Win count: 17 | Win rate: 0.406 | Time: 46.5 seconds\n",
      "Epoch: 056/499 | Loss: 0.0095 | Episodes: 140 | Win count: 17 | Win rate: 0.375 | Time: 48.1 seconds\n",
      "Epoch: 057/499 | Loss: 0.0073 | Episodes: 138 | Win count: 17 | Win rate: 0.344 | Time: 49.7 seconds\n",
      "Epoch: 058/499 | Loss: 0.0072 | Episodes: 140 | Win count: 17 | Win rate: 0.344 | Time: 51.2 seconds\n",
      "Epoch: 059/499 | Loss: 0.0079 | Episodes: 137 | Win count: 17 | Win rate: 0.344 | Time: 52.7 seconds\n",
      "Epoch: 060/499 | Loss: 0.0076 | Episodes: 129 | Win count: 18 | Win rate: 0.375 | Time: 54.2 seconds\n",
      "Epoch: 061/499 | Loss: 0.0077 | Episodes: 4 | Win count: 19 | Win rate: 0.375 | Time: 54.2 seconds\n",
      "Epoch: 062/499 | Loss: 0.0067 | Episodes: 73 | Win count: 20 | Win rate: 0.375 | Time: 55.0 seconds\n",
      "Epoch: 063/499 | Loss: 0.0075 | Episodes: 133 | Win count: 20 | Win rate: 0.344 | Time: 56.4 seconds\n",
      "Epoch: 064/499 | Loss: 0.0064 | Episodes: 6 | Win count: 21 | Win rate: 0.344 | Time: 56.5 seconds\n",
      "Epoch: 065/499 | Loss: 0.0073 | Episodes: 136 | Win count: 21 | Win rate: 0.344 | Time: 57.9 seconds\n",
      "Epoch: 066/499 | Loss: 0.0066 | Episodes: 96 | Win count: 22 | Win rate: 0.375 | Time: 58.9 seconds\n",
      "Epoch: 067/499 | Loss: 0.0083 | Episodes: 133 | Win count: 22 | Win rate: 0.375 | Time: 60.4 seconds\n",
      "Epoch: 068/499 | Loss: 0.0069 | Episodes: 144 | Win count: 22 | Win rate: 0.375 | Time: 62.1 seconds\n",
      "Epoch: 069/499 | Loss: 0.0079 | Episodes: 142 | Win count: 22 | Win rate: 0.344 | Time: 63.7 seconds\n",
      "Epoch: 070/499 | Loss: 0.0064 | Episodes: 132 | Win count: 22 | Win rate: 0.344 | Time: 65.2 seconds\n",
      "Epoch: 071/499 | Loss: 0.0074 | Episodes: 141 | Win count: 22 | Win rate: 0.344 | Time: 66.8 seconds\n",
      "Epoch: 072/499 | Loss: 0.0067 | Episodes: 2 | Win count: 23 | Win rate: 0.375 | Time: 66.8 seconds\n",
      "Epoch: 073/499 | Loss: 0.0069 | Episodes: 139 | Win count: 23 | Win rate: 0.375 | Time: 68.3 seconds\n",
      "Epoch: 074/499 | Loss: 0.0089 | Episodes: 132 | Win count: 23 | Win rate: 0.375 | Time: 69.6 seconds\n",
      "Epoch: 075/499 | Loss: 0.0064 | Episodes: 144 | Win count: 23 | Win rate: 0.375 | Time: 71.1 seconds\n",
      "Epoch: 076/499 | Loss: 0.0079 | Episodes: 132 | Win count: 23 | Win rate: 0.375 | Time: 72.4 seconds\n",
      "Epoch: 077/499 | Loss: 0.0067 | Episodes: 143 | Win count: 23 | Win rate: 0.375 | Time: 73.9 seconds\n",
      "Epoch: 078/499 | Loss: 0.0073 | Episodes: 143 | Win count: 23 | Win rate: 0.344 | Time: 75.5 seconds\n",
      "Epoch: 079/499 | Loss: 0.0066 | Episodes: 136 | Win count: 23 | Win rate: 0.312 | Time: 77.2 seconds\n",
      "Epoch: 080/499 | Loss: 0.0057 | Episodes: 134 | Win count: 23 | Win rate: 0.281 | Time: 78.6 seconds\n",
      "Epoch: 081/499 | Loss: 0.0070 | Episodes: 87 | Win count: 24 | Win rate: 0.281 | Time: 79.5 seconds\n",
      "Epoch: 082/499 | Loss: 0.0091 | Episodes: 8 | Win count: 25 | Win rate: 0.312 | Time: 79.6 seconds\n",
      "Epoch: 083/499 | Loss: 0.0085 | Episodes: 19 | Win count: 26 | Win rate: 0.344 | Time: 79.8 seconds\n",
      "Epoch: 084/499 | Loss: 0.0074 | Episodes: 137 | Win count: 26 | Win rate: 0.344 | Time: 81.3 seconds\n",
      "Epoch: 085/499 | Loss: 0.0071 | Episodes: 67 | Win count: 27 | Win rate: 0.344 | Time: 82.0 seconds\n",
      "Epoch: 086/499 | Loss: 0.0061 | Episodes: 139 | Win count: 27 | Win rate: 0.344 | Time: 83.4 seconds\n",
      "Epoch: 087/499 | Loss: 0.0107 | Episodes: 137 | Win count: 27 | Win rate: 0.312 | Time: 84.8 seconds\n",
      "Epoch: 088/499 | Loss: 0.0060 | Episodes: 139 | Win count: 27 | Win rate: 0.312 | Time: 86.3 seconds\n",
      "Epoch: 089/499 | Loss: 0.0067 | Episodes: 19 | Win count: 28 | Win rate: 0.344 | Time: 86.5 seconds\n",
      "Epoch: 090/499 | Loss: 0.0115 | Episodes: 139 | Win count: 28 | Win rate: 0.344 | Time: 87.9 seconds\n",
      "Epoch: 091/499 | Loss: 0.0065 | Episodes: 146 | Win count: 28 | Win rate: 0.344 | Time: 89.4 seconds\n",
      "Epoch: 092/499 | Loss: 0.0070 | Episodes: 139 | Win count: 28 | Win rate: 0.312 | Time: 90.8 seconds\n",
      "Epoch: 093/499 | Loss: 0.0062 | Episodes: 138 | Win count: 28 | Win rate: 0.281 | Time: 92.3 seconds\n",
      "Epoch: 094/499 | Loss: 0.0078 | Episodes: 134 | Win count: 28 | Win rate: 0.250 | Time: 93.6 seconds\n",
      "Epoch: 095/499 | Loss: 0.0069 | Episodes: 145 | Win count: 28 | Win rate: 0.250 | Time: 95.1 seconds\n",
      "Epoch: 096/499 | Loss: 0.0102 | Episodes: 6 | Win count: 29 | Win rate: 0.250 | Time: 95.2 seconds\n",
      "Epoch: 097/499 | Loss: 0.0057 | Episodes: 144 | Win count: 29 | Win rate: 0.250 | Time: 96.6 seconds\n",
      "Epoch: 098/499 | Loss: 0.0061 | Episodes: 142 | Win count: 29 | Win rate: 0.219 | Time: 98.1 seconds\n",
      "Epoch: 099/499 | Loss: 0.0059 | Episodes: 141 | Win count: 29 | Win rate: 0.219 | Time: 99.6 seconds\n",
      "Epoch: 100/499 | Loss: 0.0072 | Episodes: 7 | Win count: 30 | Win rate: 0.250 | Time: 99.7 seconds\n",
      "Epoch: 101/499 | Loss: 0.0066 | Episodes: 31 | Win count: 31 | Win rate: 0.281 | Time: 100.0 seconds\n",
      "Epoch: 102/499 | Loss: 0.0062 | Episodes: 140 | Win count: 31 | Win rate: 0.281 | Time: 101.4 seconds\n",
      "Epoch: 103/499 | Loss: 0.0061 | Episodes: 140 | Win count: 31 | Win rate: 0.281 | Time: 103.1 seconds\n",
      "Epoch: 104/499 | Loss: 0.0060 | Episodes: 1 | Win count: 32 | Win rate: 0.281 | Time: 103.1 seconds\n",
      "Epoch: 105/499 | Loss: 0.0069 | Episodes: 104 | Win count: 33 | Win rate: 0.312 | Time: 104.5 seconds\n",
      "Epoch: 106/499 | Loss: 0.0046 | Episodes: 139 | Win count: 33 | Win rate: 0.312 | Time: 106.2 seconds\n",
      "Epoch: 107/499 | Loss: 0.0051 | Episodes: 136 | Win count: 33 | Win rate: 0.312 | Time: 107.7 seconds\n",
      "Epoch: 108/499 | Loss: 0.0051 | Episodes: 142 | Win count: 33 | Win rate: 0.312 | Time: 109.2 seconds\n",
      "Epoch: 109/499 | Loss: 0.0050 | Episodes: 143 | Win count: 34 | Win rate: 0.344 | Time: 110.7 seconds\n",
      "Epoch: 110/499 | Loss: 0.0056 | Episodes: 135 | Win count: 34 | Win rate: 0.344 | Time: 112.1 seconds\n",
      "Epoch: 111/499 | Loss: 0.0059 | Episodes: 138 | Win count: 34 | Win rate: 0.344 | Time: 113.6 seconds\n",
      "Epoch: 112/499 | Loss: 0.0085 | Episodes: 143 | Win count: 34 | Win rate: 0.344 | Time: 115.1 seconds\n",
      "Epoch: 113/499 | Loss: 0.0067 | Episodes: 88 | Win count: 35 | Win rate: 0.344 | Time: 116.0 seconds\n",
      "Epoch: 114/499 | Loss: 0.0064 | Episodes: 143 | Win count: 35 | Win rate: 0.312 | Time: 117.5 seconds\n",
      "Epoch: 115/499 | Loss: 0.0055 | Episodes: 111 | Win count: 36 | Win rate: 0.312 | Time: 118.7 seconds\n",
      "Epoch: 116/499 | Loss: 0.0052 | Episodes: 2 | Win count: 37 | Win rate: 0.344 | Time: 118.7 seconds\n",
      "Epoch: 117/499 | Loss: 0.0054 | Episodes: 139 | Win count: 37 | Win rate: 0.312 | Time: 120.1 seconds\n",
      "Epoch: 118/499 | Loss: 0.0043 | Episodes: 140 | Win count: 37 | Win rate: 0.312 | Time: 121.6 seconds\n",
      "Epoch: 119/499 | Loss: 0.0055 | Episodes: 139 | Win count: 37 | Win rate: 0.312 | Time: 123.0 seconds\n",
      "Epoch: 120/499 | Loss: 0.0057 | Episodes: 138 | Win count: 37 | Win rate: 0.312 | Time: 124.5 seconds\n",
      "Epoch: 121/499 | Loss: 0.0054 | Episodes: 138 | Win count: 37 | Win rate: 0.281 | Time: 125.9 seconds\n",
      "Epoch: 122/499 | Loss: 0.0129 | Episodes: 109 | Win count: 38 | Win rate: 0.312 | Time: 127.1 seconds\n",
      "Epoch: 123/499 | Loss: 0.0133 | Episodes: 134 | Win count: 38 | Win rate: 0.312 | Time: 128.6 seconds\n",
      "Epoch: 124/499 | Loss: 0.0062 | Episodes: 8 | Win count: 39 | Win rate: 0.344 | Time: 128.7 seconds\n",
      "Epoch: 125/499 | Loss: 0.0066 | Episodes: 6 | Win count: 40 | Win rate: 0.375 | Time: 128.7 seconds\n",
      "Epoch: 126/499 | Loss: 0.0161 | Episodes: 6 | Win count: 41 | Win rate: 0.406 | Time: 128.8 seconds\n",
      "Epoch: 127/499 | Loss: 0.0053 | Episodes: 8 | Win count: 42 | Win rate: 0.438 | Time: 128.9 seconds\n",
      "Epoch: 128/499 | Loss: 0.0357 | Episodes: 144 | Win count: 42 | Win rate: 0.406 | Time: 130.4 seconds\n",
      "Epoch: 129/499 | Loss: 0.0059 | Episodes: 6 | Win count: 43 | Win rate: 0.438 | Time: 130.5 seconds\n",
      "Epoch: 130/499 | Loss: 0.0045 | Episodes: 140 | Win count: 43 | Win rate: 0.438 | Time: 131.9 seconds\n",
      "Epoch: 131/499 | Loss: 0.0061 | Episodes: 6 | Win count: 44 | Win rate: 0.469 | Time: 132.0 seconds\n",
      "Epoch: 132/499 | Loss: 0.0050 | Episodes: 113 | Win count: 45 | Win rate: 0.469 | Time: 133.2 seconds\n",
      "Epoch: 133/499 | Loss: 0.0063 | Episodes: 141 | Win count: 45 | Win rate: 0.438 | Time: 134.7 seconds\n",
      "Epoch: 134/499 | Loss: 0.0091 | Episodes: 141 | Win count: 45 | Win rate: 0.438 | Time: 136.1 seconds\n",
      "Epoch: 135/499 | Loss: 0.0063 | Episodes: 32 | Win count: 46 | Win rate: 0.469 | Time: 136.5 seconds\n",
      "Epoch: 136/499 | Loss: 0.0067 | Episodes: 6 | Win count: 47 | Win rate: 0.469 | Time: 136.5 seconds\n",
      "Epoch: 137/499 | Loss: 0.0225 | Episodes: 142 | Win count: 47 | Win rate: 0.438 | Time: 138.0 seconds\n",
      "Epoch: 138/499 | Loss: 0.0201 | Episodes: 8 | Win count: 48 | Win rate: 0.469 | Time: 138.1 seconds\n",
      "Epoch: 139/499 | Loss: 0.0059 | Episodes: 81 | Win count: 49 | Win rate: 0.500 | Time: 139.0 seconds\n",
      "Epoch: 140/499 | Loss: 0.0215 | Episodes: 7 | Win count: 50 | Win rate: 0.531 | Time: 139.0 seconds\n",
      "Epoch: 141/499 | Loss: 0.0048 | Episodes: 14 | Win count: 51 | Win rate: 0.531 | Time: 139.2 seconds\n",
      "Epoch: 142/499 | Loss: 0.0126 | Episodes: 15 | Win count: 52 | Win rate: 0.562 | Time: 139.4 seconds\n",
      "Epoch: 143/499 | Loss: 0.0044 | Episodes: 80 | Win count: 53 | Win rate: 0.594 | Time: 140.2 seconds\n",
      "Epoch: 144/499 | Loss: 0.0075 | Episodes: 11 | Win count: 54 | Win rate: 0.625 | Time: 140.3 seconds\n",
      "Epoch: 145/499 | Loss: 0.0060 | Episodes: 142 | Win count: 54 | Win rate: 0.594 | Time: 141.8 seconds\n",
      "Epoch: 146/499 | Loss: 0.0052 | Episodes: 132 | Win count: 54 | Win rate: 0.594 | Time: 143.2 seconds\n",
      "Epoch: 147/499 | Loss: 0.0137 | Episodes: 4 | Win count: 55 | Win rate: 0.594 | Time: 143.2 seconds\n",
      "Epoch: 148/499 | Loss: 0.0058 | Episodes: 118 | Win count: 56 | Win rate: 0.594 | Time: 144.5 seconds\n",
      "Epoch: 149/499 | Loss: 0.0051 | Episodes: 132 | Win count: 56 | Win rate: 0.594 | Time: 145.8 seconds\n",
      "Epoch: 150/499 | Loss: 0.0148 | Episodes: 9 | Win count: 57 | Win rate: 0.625 | Time: 145.9 seconds\n",
      "Epoch: 151/499 | Loss: 0.0120 | Episodes: 139 | Win count: 57 | Win rate: 0.625 | Time: 147.4 seconds\n",
      "Epoch: 152/499 | Loss: 0.0192 | Episodes: 8 | Win count: 58 | Win rate: 0.656 | Time: 147.5 seconds\n",
      "Epoch: 153/499 | Loss: 0.0141 | Episodes: 85 | Win count: 59 | Win rate: 0.688 | Time: 148.4 seconds\n",
      "Epoch: 154/499 | Loss: 0.0063 | Episodes: 142 | Win count: 59 | Win rate: 0.656 | Time: 149.9 seconds\n",
      "Epoch: 155/499 | Loss: 0.0047 | Episodes: 138 | Win count: 59 | Win rate: 0.656 | Time: 151.3 seconds\n",
      "Epoch: 156/499 | Loss: 0.0046 | Episodes: 11 | Win count: 60 | Win rate: 0.656 | Time: 151.4 seconds\n",
      "Epoch: 157/499 | Loss: 0.0053 | Episodes: 2 | Win count: 61 | Win rate: 0.656 | Time: 151.4 seconds\n",
      "Epoch: 158/499 | Loss: 0.0053 | Episodes: 1 | Win count: 62 | Win rate: 0.656 | Time: 151.4 seconds\n",
      "Epoch: 159/499 | Loss: 0.0062 | Episodes: 108 | Win count: 63 | Win rate: 0.656 | Time: 152.6 seconds\n",
      "Epoch: 160/499 | Loss: 0.0043 | Episodes: 66 | Win count: 64 | Win rate: 0.688 | Time: 153.2 seconds\n",
      "Epoch: 161/499 | Loss: 0.0129 | Episodes: 134 | Win count: 64 | Win rate: 0.656 | Time: 154.6 seconds\n",
      "Epoch: 162/499 | Loss: 0.0041 | Episodes: 133 | Win count: 64 | Win rate: 0.656 | Time: 156.0 seconds\n",
      "Epoch: 163/499 | Loss: 0.0165 | Episodes: 26 | Win count: 65 | Win rate: 0.656 | Time: 156.3 seconds\n",
      "Epoch: 164/499 | Loss: 0.0084 | Episodes: 138 | Win count: 65 | Win rate: 0.625 | Time: 158.0 seconds\n",
      "Epoch: 165/499 | Loss: 0.0060 | Episodes: 88 | Win count: 66 | Win rate: 0.656 | Time: 159.0 seconds\n",
      "Epoch: 166/499 | Loss: 0.0055 | Episodes: 81 | Win count: 67 | Win rate: 0.688 | Time: 160.0 seconds\n",
      "Epoch: 167/499 | Loss: 0.0055 | Episodes: 138 | Win count: 67 | Win rate: 0.656 | Time: 161.5 seconds\n",
      "Epoch: 168/499 | Loss: 0.0053 | Episodes: 7 | Win count: 68 | Win rate: 0.656 | Time: 161.6 seconds\n",
      "Epoch: 169/499 | Loss: 0.0049 | Episodes: 3 | Win count: 69 | Win rate: 0.688 | Time: 161.6 seconds\n",
      "Epoch: 170/499 | Loss: 0.0162 | Episodes: 2 | Win count: 70 | Win rate: 0.688 | Time: 161.6 seconds\n",
      "Epoch: 171/499 | Loss: 0.0054 | Episodes: 32 | Win count: 71 | Win rate: 0.688 | Time: 162.0 seconds\n",
      "Epoch: 172/499 | Loss: 0.0045 | Episodes: 1 | Win count: 72 | Win rate: 0.688 | Time: 162.0 seconds\n",
      "Epoch: 173/499 | Loss: 0.0061 | Episodes: 104 | Win count: 73 | Win rate: 0.688 | Time: 163.1 seconds\n",
      "Epoch: 174/499 | Loss: 0.0194 | Episodes: 136 | Win count: 73 | Win rate: 0.656 | Time: 164.6 seconds\n",
      "Epoch: 175/499 | Loss: 0.0051 | Episodes: 1 | Win count: 74 | Win rate: 0.656 | Time: 164.6 seconds\n",
      "Epoch: 176/499 | Loss: 0.0064 | Episodes: 134 | Win count: 74 | Win rate: 0.625 | Time: 166.1 seconds\n",
      "Epoch: 177/499 | Loss: 0.0043 | Episodes: 21 | Win count: 75 | Win rate: 0.656 | Time: 166.4 seconds\n",
      "Epoch: 178/499 | Loss: 0.0166 | Episodes: 84 | Win count: 76 | Win rate: 0.688 | Time: 167.4 seconds\n",
      "Epoch: 179/499 | Loss: 0.0036 | Episodes: 13 | Win count: 77 | Win rate: 0.688 | Time: 167.6 seconds\n",
      "Epoch: 180/499 | Loss: 0.0046 | Episodes: 15 | Win count: 78 | Win rate: 0.688 | Time: 167.8 seconds\n",
      "Epoch: 181/499 | Loss: 0.0055 | Episodes: 135 | Win count: 78 | Win rate: 0.688 | Time: 169.5 seconds\n",
      "Epoch: 182/499 | Loss: 0.0068 | Episodes: 25 | Win count: 79 | Win rate: 0.688 | Time: 169.7 seconds\n",
      "Epoch: 183/499 | Loss: 0.0046 | Episodes: 10 | Win count: 80 | Win rate: 0.719 | Time: 169.9 seconds\n",
      "Epoch: 184/499 | Loss: 0.0049 | Episodes: 19 | Win count: 81 | Win rate: 0.719 | Time: 170.1 seconds\n",
      "Epoch: 185/499 | Loss: 0.0047 | Episodes: 136 | Win count: 81 | Win rate: 0.688 | Time: 171.7 seconds\n",
      "Epoch: 186/499 | Loss: 0.0047 | Episodes: 140 | Win count: 81 | Win rate: 0.688 | Time: 173.3 seconds\n",
      "Epoch: 187/499 | Loss: 0.0053 | Episodes: 134 | Win count: 81 | Win rate: 0.688 | Time: 174.7 seconds\n",
      "Epoch: 188/499 | Loss: 0.0209 | Episodes: 26 | Win count: 82 | Win rate: 0.688 | Time: 175.0 seconds\n",
      "Epoch: 189/499 | Loss: 0.0058 | Episodes: 57 | Win count: 83 | Win rate: 0.688 | Time: 175.6 seconds\n",
      "Epoch: 190/499 | Loss: 0.0052 | Episodes: 39 | Win count: 84 | Win rate: 0.688 | Time: 176.0 seconds\n",
      "Epoch: 191/499 | Loss: 0.0064 | Episodes: 85 | Win count: 85 | Win rate: 0.688 | Time: 177.0 seconds\n",
      "Epoch: 192/499 | Loss: 0.0176 | Episodes: 3 | Win count: 86 | Win rate: 0.688 | Time: 177.0 seconds\n",
      "Epoch: 193/499 | Loss: 0.0057 | Episodes: 6 | Win count: 87 | Win rate: 0.719 | Time: 177.1 seconds\n",
      "Epoch: 194/499 | Loss: 0.0097 | Episodes: 18 | Win count: 88 | Win rate: 0.750 | Time: 177.3 seconds\n",
      "Epoch: 195/499 | Loss: 0.0054 | Episodes: 5 | Win count: 89 | Win rate: 0.750 | Time: 177.4 seconds\n",
      "Epoch: 196/499 | Loss: 0.0062 | Episodes: 65 | Win count: 90 | Win rate: 0.781 | Time: 178.2 seconds\n",
      "Epoch: 197/499 | Loss: 0.0054 | Episodes: 146 | Win count: 91 | Win rate: 0.781 | Time: 179.9 seconds\n",
      "Epoch: 198/499 | Loss: 0.0056 | Episodes: 4 | Win count: 92 | Win rate: 0.781 | Time: 179.9 seconds\n",
      "Epoch: 199/499 | Loss: 0.0047 | Episodes: 134 | Win count: 92 | Win rate: 0.781 | Time: 181.4 seconds\n",
      "Epoch: 200/499 | Loss: 0.0172 | Episodes: 111 | Win count: 93 | Win rate: 0.781 | Time: 182.6 seconds\n",
      "Epoch: 201/499 | Loss: 0.0137 | Episodes: 71 | Win count: 94 | Win rate: 0.781 | Time: 183.4 seconds\n",
      "Epoch: 202/499 | Loss: 0.0229 | Episodes: 14 | Win count: 95 | Win rate: 0.781 | Time: 183.6 seconds\n",
      "Epoch: 203/499 | Loss: 0.0040 | Episodes: 1 | Win count: 96 | Win rate: 0.781 | Time: 183.6 seconds\n",
      "Epoch: 204/499 | Loss: 0.0192 | Episodes: 10 | Win count: 97 | Win rate: 0.781 | Time: 183.7 seconds\n",
      "Epoch: 205/499 | Loss: 0.0212 | Episodes: 135 | Win count: 97 | Win rate: 0.750 | Time: 185.2 seconds\n",
      "Epoch: 206/499 | Loss: 0.0071 | Episodes: 6 | Win count: 98 | Win rate: 0.781 | Time: 185.3 seconds\n",
      "Epoch: 207/499 | Loss: 0.0075 | Episodes: 15 | Win count: 99 | Win rate: 0.781 | Time: 185.4 seconds\n",
      "Epoch: 208/499 | Loss: 0.0047 | Episodes: 134 | Win count: 99 | Win rate: 0.781 | Time: 186.9 seconds\n",
      "Epoch: 209/499 | Loss: 0.0037 | Episodes: 6 | Win count: 100 | Win rate: 0.781 | Time: 186.9 seconds\n",
      "Epoch: 210/499 | Loss: 0.0040 | Episodes: 46 | Win count: 101 | Win rate: 0.781 | Time: 187.4 seconds\n",
      "Epoch: 211/499 | Loss: 0.0042 | Episodes: 146 | Win count: 102 | Win rate: 0.781 | Time: 189.0 seconds\n",
      "Epoch: 212/499 | Loss: 0.0063 | Episodes: 4 | Win count: 103 | Win rate: 0.781 | Time: 189.1 seconds\n",
      "Epoch: 213/499 | Loss: 0.0046 | Episodes: 14 | Win count: 104 | Win rate: 0.812 | Time: 189.2 seconds\n",
      "Epoch: 214/499 | Loss: 0.0041 | Episodes: 132 | Win count: 104 | Win rate: 0.781 | Time: 190.6 seconds\n",
      "Epoch: 215/499 | Loss: 0.0191 | Episodes: 136 | Win count: 104 | Win rate: 0.750 | Time: 192.0 seconds\n",
      "Epoch: 216/499 | Loss: 0.0049 | Episodes: 10 | Win count: 105 | Win rate: 0.750 | Time: 192.1 seconds\n",
      "Epoch: 217/499 | Loss: 0.0065 | Episodes: 134 | Win count: 105 | Win rate: 0.750 | Time: 193.5 seconds\n",
      "Epoch: 218/499 | Loss: 0.0169 | Episodes: 15 | Win count: 106 | Win rate: 0.781 | Time: 193.7 seconds\n",
      "Epoch: 219/499 | Loss: 0.0038 | Episodes: 5 | Win count: 107 | Win rate: 0.812 | Time: 193.7 seconds\n",
      "Epoch: 220/499 | Loss: 0.0066 | Episodes: 4 | Win count: 108 | Win rate: 0.812 | Time: 193.8 seconds\n",
      "Epoch: 221/499 | Loss: 0.0040 | Episodes: 106 | Win count: 109 | Win rate: 0.812 | Time: 194.9 seconds\n",
      "Epoch: 222/499 | Loss: 0.0070 | Episodes: 63 | Win count: 110 | Win rate: 0.812 | Time: 195.6 seconds\n",
      "Epoch: 223/499 | Loss: 0.0044 | Episodes: 6 | Win count: 111 | Win rate: 0.812 | Time: 195.7 seconds\n",
      "Epoch: 224/499 | Loss: 0.0194 | Episodes: 14 | Win count: 112 | Win rate: 0.812 | Time: 195.8 seconds\n",
      "Epoch: 225/499 | Loss: 0.0040 | Episodes: 1 | Win count: 113 | Win rate: 0.812 | Time: 195.8 seconds\n",
      "Epoch: 226/499 | Loss: 0.0049 | Episodes: 8 | Win count: 114 | Win rate: 0.812 | Time: 195.9 seconds\n",
      "Epoch: 227/499 | Loss: 0.0090 | Episodes: 99 | Win count: 115 | Win rate: 0.812 | Time: 197.0 seconds\n",
      "Epoch: 228/499 | Loss: 0.0036 | Episodes: 46 | Win count: 116 | Win rate: 0.812 | Time: 197.5 seconds\n",
      "Epoch: 229/499 | Loss: 0.0208 | Episodes: 4 | Win count: 117 | Win rate: 0.812 | Time: 197.6 seconds\n",
      "Epoch: 230/499 | Loss: 0.0070 | Episodes: 6 | Win count: 118 | Win rate: 0.812 | Time: 197.6 seconds\n",
      "Epoch: 231/499 | Loss: 0.0078 | Episodes: 8 | Win count: 119 | Win rate: 0.844 | Time: 197.7 seconds\n",
      "Epoch: 232/499 | Loss: 0.0088 | Episodes: 14 | Win count: 120 | Win rate: 0.844 | Time: 197.9 seconds\n",
      "Epoch: 233/499 | Loss: 0.0048 | Episodes: 29 | Win count: 121 | Win rate: 0.844 | Time: 198.2 seconds\n",
      "Epoch: 234/499 | Loss: 0.0070 | Episodes: 16 | Win count: 122 | Win rate: 0.844 | Time: 198.4 seconds\n",
      "Epoch: 235/499 | Loss: 0.0198 | Episodes: 13 | Win count: 123 | Win rate: 0.844 | Time: 198.6 seconds\n",
      "Epoch: 236/499 | Loss: 0.0198 | Episodes: 37 | Win count: 124 | Win rate: 0.844 | Time: 199.0 seconds\n",
      "Epoch: 237/499 | Loss: 0.0249 | Episodes: 4 | Win count: 125 | Win rate: 0.875 | Time: 199.0 seconds\n",
      "Epoch: 238/499 | Loss: 0.0094 | Episodes: 1 | Win count: 126 | Win rate: 0.875 | Time: 199.0 seconds\n",
      "Epoch: 239/499 | Loss: 0.0115 | Episodes: 2 | Win count: 127 | Win rate: 0.875 | Time: 199.0 seconds\n",
      "Epoch: 240/499 | Loss: 0.0078 | Episodes: 17 | Win count: 128 | Win rate: 0.906 | Time: 199.2 seconds\n",
      "Epoch: 241/499 | Loss: 0.0063 | Episodes: 67 | Win count: 129 | Win rate: 0.906 | Time: 199.9 seconds\n",
      "Epoch: 242/499 | Loss: 0.0078 | Episodes: 28 | Win count: 130 | Win rate: 0.906 | Time: 200.2 seconds\n",
      "Epoch: 243/499 | Loss: 0.0034 | Episodes: 38 | Win count: 131 | Win rate: 0.906 | Time: 200.6 seconds\n",
      "Epoch: 244/499 | Loss: 0.0064 | Episodes: 10 | Win count: 132 | Win rate: 0.906 | Time: 200.7 seconds\n",
      "Epoch: 245/499 | Loss: 0.0054 | Episodes: 135 | Win count: 133 | Win rate: 0.906 | Time: 202.1 seconds\n",
      "Epoch: 246/499 | Loss: 0.0076 | Episodes: 17 | Win count: 134 | Win rate: 0.938 | Time: 202.3 seconds\n",
      "Epoch: 247/499 | Loss: 0.0063 | Episodes: 13 | Win count: 135 | Win rate: 0.969 | Time: 202.4 seconds\n",
      "Epoch: 248/499 | Loss: 0.0052 | Episodes: 72 | Win count: 136 | Win rate: 0.969 | Time: 203.2 seconds\n",
      "Epoch: 249/499 | Loss: 0.0053 | Episodes: 16 | Win count: 137 | Win rate: 1.000 | Time: 203.4 seconds\n",
      "Reached 100% win rate at epoch: 249\n",
      "n_epoch: 249, max_mem: 256, batch: 32, time: 203.4 seconds\n"
     ]
    },
    {
     "data": {
      "text/plain": [
       "203.382598"
      ]
     },
     "execution_count": 13,
     "metadata": {},
     "output_type": "execute_result"
    }
   ],
   "source": [
    "qtrain(model, maze, epochs=500, max_memory=4 * maze.size, batch=32)"
   ]
  },
  {
   "cell_type": "markdown",
   "id": "a0bbe8fc-5d6d-4860-a72b-59c7b78cf65d",
   "metadata": {},
   "source": [
    "### Deploy the agent in the generated environment to leverage the 'show' method at each individual step"
   ]
  },
  {
   "cell_type": "code",
   "execution_count": 14,
   "id": "71413535-90c1-4991-b294-6c2700a88e72",
   "metadata": {},
   "outputs": [],
   "source": [
    "def play_game_show(model, qmaze, rat_cell):\n",
    "    qmaze.reset(rat_cell)\n",
    "    envstate = qmaze.observe()\n",
    "    while True:\n",
    "        prev_envstate = envstate\n",
    "        q = model.test_models(np.expand_dims(prev_envstate, axis=0))\n",
    "\n",
    "        action = np.argmax(q)\n",
    "        envstate, reward, game_status = qmaze.act(action)\n",
    "        print(actions_dict[action])\n",
    "        show(qmaze)\n",
    "        if game_status == 'win':\n",
    "            return game_status\n",
    "        elif game_status == 'lose':\n",
    "            return game_status\n",
    "        "
   ]
  },
  {
   "cell_type": "code",
   "execution_count": 18,
   "id": "94f49e8c-5881-44bc-adb8-94af4bf0eb77",
   "metadata": {},
   "outputs": [
    {
     "name": "stdout",
     "output_type": "stream",
     "text": [
      "left\n"
     ]
    },
    {
     "data": {
      "image/png": "[encoded data removed]",
      "text/plain": [
       "<Figure size 640x480 with 1 Axes>"
      ]
     },
     "metadata": {},
     "output_type": "display_data"
    },
    {
     "name": "stdout",
     "output_type": "stream",
     "text": [
      "down\n"
     ]
    },
    {
     "data": {
      "image/png": "[encoded data removed]",
      "text/plain": [
       "<Figure size 640x480 with 1 Axes>"
      ]
     },
     "metadata": {},
     "output_type": "display_data"
    },
    {
     "name": "stdout",
     "output_type": "stream",
     "text": [
      "down\n"
     ]
    },
    {
     "data": {
      "image/png": "[encoded data removed]",
      "text/plain": [
       "<Figure size 640x480 with 1 Axes>"
      ]
     },
     "metadata": {},
     "output_type": "display_data"
    },
    {
     "name": "stdout",
     "output_type": "stream",
     "text": [
      "left\n"
     ]
    },
    {
     "data": {
      "image/png": "[encoded data removed]",
      "text/plain": [
       "<Figure size 640x480 with 1 Axes>"
      ]
     },
     "metadata": {},
     "output_type": "display_data"
    },
    {
     "name": "stdout",
     "output_type": "stream",
     "text": [
      "left\n"
     ]
    },
    {
     "data": {
      "image/png": "[encoded data removed]",
      "text/plain": [
       "<Figure size 640x480 with 1 Axes>"
      ]
     },
     "metadata": {},
     "output_type": "display_data"
    },
    {
     "name": "stdout",
     "output_type": "stream",
     "text": [
      "left\n"
     ]
    },
    {
     "data": {
      "image/png": "[encoded data removed]",
      "text/plain": [
       "<Figure size 640x480 with 1 Axes>"
      ]
     },
     "metadata": {},
     "output_type": "display_data"
    },
    {
     "name": "stdout",
     "output_type": "stream",
     "text": [
      "down\n"
     ]
    },
    {
     "data": {
      "image/png": "[encoded data removed]",
      "text/plain": [
       "<Figure size 640x480 with 1 Axes>"
      ]
     },
     "metadata": {},
     "output_type": "display_data"
    },
    {
     "name": "stdout",
     "output_type": "stream",
     "text": [
      "down\n"
     ]
    },
    {
     "data": {
      "image/png": "[encoded data removed]",
      "text/plain": [
       "<Figure size 640x480 with 1 Axes>"
      ]
     },
     "metadata": {},
     "output_type": "display_data"
    },
    {
     "name": "stdout",
     "output_type": "stream",
     "text": [
      "right\n"
     ]
    },
    {
     "data": {
      "image/png": "[encoded data removed]",
      "text/plain": [
       "<Figure size 640x480 with 1 Axes>"
      ]
     },
     "metadata": {},
     "output_type": "display_data"
    },
    {
     "name": "stdout",
     "output_type": "stream",
     "text": [
      "right\n"
     ]
    },
    {
     "data": {
      "image/png": "[encoded data removed]",
      "text/plain": [
       "<Figure size 640x480 with 1 Axes>"
      ]
     },
     "metadata": {},
     "output_type": "display_data"
    },
    {
     "name": "stdout",
     "output_type": "stream",
     "text": [
      "right\n"
     ]
    },
    {
     "data": {
      "image/png": "[encoded data removed]",
      "text/plain": [
       "<Figure size 640x480 with 1 Axes>"
      ]
     },
     "metadata": {},
     "output_type": "display_data"
    },
    {
     "name": "stdout",
     "output_type": "stream",
     "text": [
      "right\n"
     ]
    },
    {
     "data": {
      "image/png": "[encoded data removed]",
      "text/plain": [
       "<Figure size 640x480 with 1 Axes>"
      ]
     },
     "metadata": {},
     "output_type": "display_data"
    },
    {
     "name": "stdout",
     "output_type": "stream",
     "text": [
      "right\n"
     ]
    },
    {
     "data": {
      "image/png": "[encoded data removed]",
      "text/plain": [
       "<Figure size 640x480 with 1 Axes>"
      ]
     },
     "metadata": {},
     "output_type": "display_data"
    },
    {
     "data": {
      "text/plain": [
       "'win'"
      ]
     },
     "execution_count": 18,
     "metadata": {},
     "output_type": "execute_result"
    }
   ],
   "source": [
    "play_game_show(model, qmaze, (3, 6))"
   ]
  },
  {
   "cell_type": "code",
   "execution_count": null,
   "id": "195265dc-e549-439d-b751-d793249d0fda",
   "metadata": {},
   "outputs": [],
   "source": []
  },
  {
   "cell_type": "code",
   "execution_count": null,
   "id": "ec5738ce-6bfd-4daf-8cb3-9d604283e1db",
   "metadata": {},
   "outputs": [],
   "source": []
  }
 ],
 "metadata": {
  "kernelspec": {
   "display_name": "Python 3 (ipykernel)",
   "language": "python",
   "name": "python3"
  },
  "language_info": {
   "codemirror_mode": {
    "name": "ipython",
    "version": 3
   },
   "file_extension": ".py",
   "mimetype": "text/x-python",
   "name": "python",
   "nbconvert_exporter": "python",
   "pygments_lexer": "ipython3",
   "version": "3.10.12"
  }
 },
 "nbformat": 4,
 "nbformat_minor": 5
}
